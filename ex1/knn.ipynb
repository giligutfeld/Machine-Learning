{
  "metadata": {
    "kernelspec": {
      "display_name": "Python 3",
      "language": "python",
      "name": "python3"
    },
    "language_info": {
      "name": "python",
      "version": "3.6.5",
      "mimetype": "text/x-python",
      "codemirror_mode": {
        "name": "ipython",
        "version": 3
      },
      "pygments_lexer": "ipython3",
      "nbconvert_exporter": "python",
      "file_extension": ".py"
    },
    "colab": {
      "provenance": [],
      "collapsed_sections": []
    }
  },
  "nbformat_minor": 0,
  "nbformat": 4,
  "cells": [
    {
      "cell_type": "markdown",
      "source": [
        "<h1><center><b>Machine Learning</></center></h1>\n",
        "<h4><center>89-511</center></h4>\n",
        "<h3><center>Exercise 1 - Practical Part</center></h3>"
      ],
      "metadata": {
        "id": "FnIE9WTOfS1l"
      }
    },
    {
      "cell_type": "markdown",
      "source": [
        "Your Name:  \n",
        "<font color='red'>\n",
        "Gili Gutfeld, 209284512   \n",
        "</font>\n"
      ],
      "metadata": {
        "id": "E89lXXfbfXHm"
      }
    },
    {
      "cell_type": "markdown",
      "source": [
        "____________"
      ],
      "metadata": {
        "id": "3lYBy6xqfjeZ"
      }
    },
    {
      "cell_type": "markdown",
      "source": [
        "In this exercise we will learn to:\n",
        "1. Load and prepare datasets.\n",
        "2. Implement KNN algorithm."
      ],
      "metadata": {
        "id": "MQHH33U_fcfO"
      }
    },
    {
      "cell_type": "markdown",
      "source": [
        "**Instructions:**\n",
        "- Create a copy of this notebook and implement your code in it.\n",
        "- Make sure all the cells run without errors.\n",
        "- When you finish the assignment, download the notebook and submit it and your pdf file to the **\"submit\"** system. \n",
        "To Download the notebook go to **\"File\"** -> **\"Download .ipynb\"**.  \n",
        "\n",
        "\n",
        "\n",
        "If you have questions, please ask at the forum on moodle.\n",
        "\n",
        "Personal requests please send to TA emails."
      ],
      "metadata": {
        "id": "NJMv-ROefl8X"
      }
    },
    {
      "cell_type": "markdown",
      "source": [
        "### **1. Introduction to Colab and Numpy**"
      ],
      "metadata": {
        "id": "4GQhuPnKGMDv"
      }
    },
    {
      "cell_type": "markdown",
      "source": [
        "We use the Python programming language for all assignments in this course with the help of popular packages (like numpy, matplotlib, sklearn, scipy and pytorch)."
      ],
      "metadata": {
        "id": "aEUfaBxEGPYv"
      }
    },
    {
      "cell_type": "markdown",
      "source": [
        "Go over this **[numpy tutorial](https://numpy.org/doc/stable/user/quickstart.html)** or this **[tutorial](https://cs231n.github.io/python-numpy-tutorial/)** before starting this assignment and **[this notebook](https://colab.research.google.com/github/cs231n/cs231n.github.io/blob/master/python-colab.ipynb)** to understand how to work with basic packages and with Google Colab. It is important to go over them before starting this assignment."
      ],
      "metadata": {
        "id": "w3J-LD1JGRnz"
      }
    },
    {
      "cell_type": "code",
      "source": [
        "import numpy as np # linear algebra\n",
        "import matplotlib.pyplot as plt\n",
        "%matplotlib inline"
      ],
      "metadata": {
        "_uuid": "8f2839f25d086af736a60e9eeb907d3b93b6e0e5",
        "_cell_guid": "b1076dfc-b9ad-4769-8c92-a6c4dae69d19",
        "collapsed": true,
        "jupyter": {
          "outputs_hidden": true
        },
        "trusted": true,
        "id": "UrvjGAig6ZVz"
      },
      "execution_count": null,
      "outputs": []
    },
    {
      "cell_type": "markdown",
      "source": [
        "Play with NumPy here:"
      ],
      "metadata": {
        "id": "txhZN0oi_sN7"
      }
    },
    {
      "cell_type": "code",
      "source": [
        "x = np.array([1,2,3])\n",
        "y = np.array([4,5,6])\n",
        "x, y"
      ],
      "metadata": {
        "id": "PX_F6QmR_w6k"
      },
      "execution_count": null,
      "outputs": []
    },
    {
      "cell_type": "markdown",
      "source": [
        "Pay attention: with NumPy, you can sum vectors in one line, you don't have to iterate over the elements."
      ],
      "metadata": {
        "id": "Bb9L0pZOAniX"
      }
    },
    {
      "cell_type": "code",
      "source": [
        "x + y\n",
        "x - y\n",
        "x * y\n",
        "# x**2\n",
        "# (x - y)**2"
      ],
      "metadata": {
        "id": "kNef8D0O_3Yp"
      },
      "execution_count": null,
      "outputs": []
    },
    {
      "cell_type": "code",
      "source": [
        "np.sum(x)\n",
        "# np.mean(x)\n",
        "# np.sqrt(x)"
      ],
      "metadata": {
        "id": "HDHXT8erBjrB"
      },
      "execution_count": null,
      "outputs": []
    },
    {
      "cell_type": "markdown",
      "source": [
        "### **2. Data**"
      ],
      "metadata": {
        "id": "RFeWSRKXGYwt"
      }
    },
    {
      "cell_type": "markdown",
      "source": [
        "##Data\n",
        "We'll use CIFAR10 dataset.\n",
        "It is a very familiar dataset. Please read a little bit [here](https://www.cs.toronto.edu/~kriz/cifar.html).\n",
        "\n",
        "To import the dataset, we'll use the torch library. Don't dig about this library now, we will learn about it better in the next weeks."
      ],
      "metadata": {
        "id": "OxJ5oDEYBfzx"
      }
    },
    {
      "cell_type": "code",
      "source": [
        "import torch\n",
        "from torchvision import datasets,transforms\n",
        "import torchvision"
      ],
      "metadata": {
        "id": "duNdiOxThkGX"
      },
      "execution_count": null,
      "outputs": []
    },
    {
      "cell_type": "code",
      "source": [
        "######################################################\n",
        "##   Don't change this cell. Use it as a black box  ##\n",
        "######################################################\n",
        "\n",
        "transform = transforms.Compose(\n",
        "    [transforms.ToTensor(),\n",
        "     ])\n",
        "\n",
        "trainset = torchvision.datasets.CIFAR10(root='./data', train=True,\n",
        "                                        download=True, transform=transform)\n",
        "trainloader = torch.utils.data.DataLoader(trainset, batch_size=100,\n",
        "                                          shuffle=True, num_workers=1)\n",
        "\n",
        "testset = torchvision.datasets.CIFAR10(root='./data', train=False,\n",
        "                                       download=True, transform=transform)\n",
        "testloader = torch.utils.data.DataLoader(testset, batch_size=10,\n",
        "                                         shuffle=False, num_workers=1)\n",
        "\n",
        "# CIFAR10 labels:\n",
        "classes = ('plane', 'car', 'bird', 'cat',\n",
        "           'deer', 'dog', 'frog', 'horse', 'ship', 'truck')"
      ],
      "metadata": {
        "id": "l3oDm59FhrLf",
        "colab": {
          "base_uri": "https://localhost:8080/"
        },
        "outputId": "93075857-ced0-40e0-8eef-d6f830ea910c"
      },
      "execution_count": null,
      "outputs": [
        {
          "output_type": "stream",
          "name": "stdout",
          "text": [
            "Files already downloaded and verified\n",
            "Files already downloaded and verified\n"
          ]
        }
      ]
    },
    {
      "cell_type": "markdown",
      "source": [
        "Let's see a few images with their labels"
      ],
      "metadata": {
        "id": "mmmmXVkzCT_e"
      }
    },
    {
      "cell_type": "code",
      "source": [
        "# functions to show an image\n",
        "def imshow(img):\n",
        "    img = img / 2 + 0.5     # unnormalize\n",
        "    npimg = img.numpy()\n",
        "    plt.imshow(np.transpose(npimg, (1, 2, 0)))\n",
        "    plt.show()\n",
        "\n",
        "\n",
        "# get some random training images\n",
        "dataiter = iter(trainloader)\n",
        "images, labels = dataiter.next()\n",
        "\n",
        "testiter = iter(testloader)\n",
        "test_images, test_labels = testiter.next()\n",
        "\n",
        "# show images\n",
        "imshow(torchvision.utils.make_grid(images[:6]))\n",
        "# print labels\n",
        "print(' '.join('%5s' % classes[labels[j]] for j in range(6)))"
      ],
      "metadata": {
        "id": "pe-chMNui1-G",
        "colab": {
          "base_uri": "https://localhost:8080/",
          "height": 127
        },
        "outputId": "72a00a98-168f-4ff2-b25d-385c836a64a9"
      },
      "execution_count": null,
      "outputs": [
        {
          "output_type": "display_data",
          "data": {
            "text/plain": [
              "<Figure size 432x288 with 1 Axes>"
            ],
            "image/png": "[encoded data removed]"
          },
          "metadata": {
            "needs_background": "light"
          }
        },
        {
          "output_type": "stream",
          "name": "stdout",
          "text": [
            "  cat   cat  ship   dog plane  deer\n"
          ]
        }
      ]
    },
    {
      "cell_type": "markdown",
      "source": [
        "Each image is represented as a RGB image.\n",
        "each pixel has a number between 0 and 1 on each dimension."
      ],
      "metadata": {
        "id": "E7WnAEEPjshc"
      }
    },
    {
      "cell_type": "code",
      "source": [
        "images[0], images[0].size()"
      ],
      "metadata": {
        "id": "FM1kkK1jjo7q",
        "colab": {
          "base_uri": "https://localhost:8080/"
        },
        "outputId": "a810860c-f8ce-4bd0-9ba5-29beec6b8c27"
      },
      "execution_count": null,
      "outputs": [
        {
          "output_type": "execute_result",
          "data": {
            "text/plain": [
              "(tensor([[[0.2667, 0.3569, 0.5098,  ..., 0.8824, 0.9137, 0.8902],\n",
              "          [0.3569, 0.2275, 0.3529,  ..., 0.8039, 0.8314, 0.9176],\n",
              "          [0.5882, 0.4980, 0.6745,  ..., 0.7922, 0.7843, 0.8275],\n",
              "          ...,\n",
              "          [0.8902, 0.7490, 0.6118,  ..., 0.9176, 0.9255, 0.9451],\n",
              "          [0.9255, 0.9020, 0.6745,  ..., 0.9098, 0.9098, 0.9294],\n",
              "          [0.9020, 0.9020, 0.7216,  ..., 0.9176, 0.9176, 0.9333]],\n",
              " \n",
              "         [[0.1490, 0.2471, 0.4000,  ..., 0.7765, 0.8235, 0.8039],\n",
              "          [0.2549, 0.1294, 0.2549,  ..., 0.6863, 0.7490, 0.8510],\n",
              "          [0.5059, 0.4196, 0.5961,  ..., 0.6667, 0.6902, 0.7569],\n",
              "          ...,\n",
              "          [0.8549, 0.6941, 0.5451,  ..., 0.9137, 0.9176, 0.9373],\n",
              "          [0.9176, 0.8706, 0.6235,  ..., 0.9020, 0.9020, 0.9216],\n",
              "          [0.9059, 0.8863, 0.6863,  ..., 0.9098, 0.9098, 0.9255]],\n",
              " \n",
              "         [[0.1176, 0.1882, 0.3176,  ..., 0.8941, 0.9373, 0.9216],\n",
              "          [0.2000, 0.0706, 0.1843,  ..., 0.8157, 0.8667, 0.9608],\n",
              "          [0.4392, 0.3490, 0.5176,  ..., 0.8118, 0.8235, 0.8824],\n",
              "          ...,\n",
              "          [0.8863, 0.6706, 0.4627,  ..., 0.9569, 0.9647, 0.9843],\n",
              "          [0.9451, 0.8549, 0.5608,  ..., 0.9451, 0.9451, 0.9647],\n",
              "          [0.9412, 0.8863, 0.6549,  ..., 0.9529, 0.9529, 0.9686]]]),\n",
              " torch.Size([3, 32, 32]))"
            ]
          },
          "metadata": {},
          "execution_count": 14
        }
      ]
    },
    {
      "cell_type": "markdown",
      "source": [
        "CIFAR is a big datadset, let's use only 100 images and convert them to numpy arrays"
      ],
      "metadata": {
        "_uuid": "29047fa0bda44ed0a1585111f3d6f8ff59d4874a",
        "id": "qDAXwa4F6ZWT"
      }
    },
    {
      "cell_type": "markdown",
      "source": [
        "#### Train Set"
      ],
      "metadata": {
        "id": "ET8mhNueCeFj"
      }
    },
    {
      "cell_type": "code",
      "source": [
        "x_train = np.array(images)\n",
        "y_train = np.array(labels)"
      ],
      "metadata": {
        "id": "tgnGJ0D2k0To"
      },
      "execution_count": null,
      "outputs": []
    },
    {
      "cell_type": "code",
      "source": [
        "x_train.shape, y_train.shape"
      ],
      "metadata": {
        "_uuid": "6afd808eb483954449df900735458dc3fac2c872",
        "trusted": true,
        "id": "4XE9nvkA6ZWU",
        "colab": {
          "base_uri": "https://localhost:8080/"
        },
        "outputId": "bf0e69e3-f302-4fb4-9422-b78301b1a5e6"
      },
      "execution_count": null,
      "outputs": [
        {
          "output_type": "execute_result",
          "data": {
            "text/plain": [
              "((100, 3, 32, 32), (100,))"
            ]
          },
          "metadata": {},
          "execution_count": 16
        }
      ]
    },
    {
      "cell_type": "markdown",
      "source": [
        "#### Test Set"
      ],
      "metadata": {
        "_uuid": "a3481050ff75eb36c89117cf7fd57479c047649d",
        "id": "ju_se3Sk6ZWV"
      }
    },
    {
      "cell_type": "code",
      "source": [
        "x_test = np.array(test_images)\n",
        "y_test = np.array(test_labels)\n",
        "x_test.shape, y_test.shape"
      ],
      "metadata": {
        "_uuid": "ebbf24c127217ef8799a02a146eb97de17f0e064",
        "collapsed": true,
        "jupyter": {
          "outputs_hidden": true
        },
        "trusted": true,
        "id": "StHT3jMF6ZWX",
        "colab": {
          "base_uri": "https://localhost:8080/"
        },
        "outputId": "44017c71-44d2-47b0-d89c-c999cb16660c"
      },
      "execution_count": null,
      "outputs": [
        {
          "output_type": "execute_result",
          "data": {
            "text/plain": [
              "((10, 3, 32, 32), (10,))"
            ]
          },
          "metadata": {},
          "execution_count": 17
        }
      ]
    },
    {
      "cell_type": "markdown",
      "source": [
        "### **3. KNN**"
      ],
      "metadata": {
        "id": "dn6LYfAS710-"
      }
    },
    {
      "cell_type": "markdown",
      "source": [
        "First of all, let's implement euclidean distance function, so we will be able to calculate closeness between images.\n",
        "\n",
        "**A reminder**: the euclidean distance formula is:\n",
        "\n",
        "![image.png](data:image/png;base64,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)\n",
        "\n",
        "**Pay attention**: point representation might contains more than two numbers (means m>2)."
      ],
      "metadata": {
        "id": "QGgbwQg5BBk8"
      }
    },
    {
      "cell_type": "code",
      "source": [
        "import math\n",
        "\n",
        "def euclidean_distance(p1, p2):\n",
        "  return np.sqrt(np.sum((p1 - p2)**2))"
      ],
      "metadata": {
        "id": "6JEOP8Iy9Oed"
      },
      "execution_count": null,
      "outputs": []
    },
    {
      "cell_type": "markdown",
      "source": [
        "Now, let's implement KNeighborsClassifier class.\n",
        "\n",
        "In 'fit' function you have to get the inputs, and prepare the classifier for prediction (think what exactly you have to prepare)\n",
        "\n",
        "In 'predict' fucntion you have to get a test set and return a numpy array contains the classes (that the model predicted) of each element from the test set.\n",
        "\n",
        "We added a few more function declarations that might help you. Fill free to implement them (or not) and to add some more functions.\n",
        "\n",
        "In adition, we've presented a few KNN implementations in class. You are allowed to implement your own algorithm.\n"
      ],
      "metadata": {
        "id": "p0nmKRhmCiZO"
      }
    },
    {
      "cell_type": "code",
      "source": [
        "class KNeighborsClassifier:\n",
        "  def __init__(self, distance_metric, n_neighbors=None):\n",
        "    self.k = n_neighbors\n",
        "    self.distance_metric = distance_metric\n",
        "\n",
        "  def fit(self, x, y):\n",
        "    self.train_x = x\n",
        "    self.train_y = y\n",
        "\n",
        "  def nearest_neighbors(self, test_row):\n",
        "    distances = list()\n",
        "    count = self.train_x.shape[0]\n",
        "    for i in range(count):\n",
        "      distance = self.distance_metric(self.train_x[i], test_row)\n",
        "      distances.append(distance)\n",
        "    indices = np.argsort(distances)\n",
        "    neighbors = list()\n",
        "    for i in range(self.k):\n",
        "      neighbors.append(self.train_y[indices[i]])\n",
        "    return neighbors\n",
        "\n",
        "  def predict(self, x_test):\n",
        "    count = x_test.shape[0]\n",
        "    predictions = np.zeros(count, dtype = self.train_y.dtype)\n",
        "\n",
        "    for i in range(count):\n",
        "      neighbors = self.nearest_neighbors(x_test[i])\n",
        "      prediction = max(set(neighbors), key=neighbors.count)\n",
        "      predictions[i] = prediction\n",
        "\n",
        "    return np.array(predictions)\n",
        "  \n",
        "\n"
      ],
      "metadata": {
        "id": "KboWqZLE7zuE"
      },
      "execution_count": null,
      "outputs": []
    },
    {
      "cell_type": "code",
      "source": [
        "def error_rate(y_predict, y_true):\n",
        "  \"\"\"\n",
        "  y_predict: the model's output\n",
        "  y_true: the expected output\n",
        "  \"\"\"\n",
        "  return np.mean(y_predict != y_true)\n",
        "  "
      ],
      "metadata": {
        "id": "Y1XqlDE7BaS-"
      },
      "execution_count": null,
      "outputs": []
    },
    {
      "cell_type": "markdown",
      "source": [
        "**Using KNN**"
      ],
      "metadata": {
        "_uuid": "ae2b399f1a07facca0efbe6932d07ce364503b19",
        "id": "70eV3Bbk6ZWY"
      }
    },
    {
      "cell_type": "markdown",
      "source": [
        "Use the KNeighborsClassifier class you've implemented with n_neighbors=1. Fit this KNN model to the training data."
      ],
      "metadata": {
        "_uuid": "f74b766c7b4c1c903d28801f0d289c3c656e9f40",
        "id": "bucbcM056ZWZ"
      }
    },
    {
      "cell_type": "code",
      "source": [
        "knn = KNeighborsClassifier(euclidean_distance, n_neighbors=1)\n",
        "knn.fit(x_train,y_train)"
      ],
      "metadata": {
        "_uuid": "172f52bf6eb063dc1036e9c9f53cf8b32be30264",
        "trusted": true,
        "id": "HlCwTN6f6ZWa"
      },
      "execution_count": null,
      "outputs": []
    },
    {
      "cell_type": "markdown",
      "source": [
        "**Predictions and Evaluations**"
      ],
      "metadata": {
        "_uuid": "616bada005962d9b485fb28cff6ee51772ae623e",
        "id": "WAfvzL676ZWb"
      }
    },
    {
      "cell_type": "markdown",
      "source": [
        "Use the predict method to predict values using your KNN model and x_test. In addition, create a [confusion matrix](https://www.sciencedirect.com/topics/engineering/confusion-matrix) and a [classification report](https://scikit-learn.org/stable/modules/generated/sklearn.metrics.classification_report.html).\n",
        "\n",
        "Make sure you don't get any errors in this cell."
      ],
      "metadata": {
        "_uuid": "7b2ce93dc57775f9d4648d93b89ca601fd87b14b",
        "id": "uRAZcinr6ZWc"
      }
    },
    {
      "cell_type": "code",
      "source": [
        "pred = knn.predict(x_test)\n",
        "print(pred)\n",
        "print(y_test)\n",
        "from sklearn.metrics import classification_report,confusion_matrix\n",
        "print(confusion_matrix(y_test,pred))\n",
        "print(classification_report(y_test,pred))"
      ],
      "metadata": {
        "_uuid": "f31fd79b413c45cab4629c9ee9feecd515a05974",
        "trusted": true,
        "id": "Nljusqxg6ZWd",
        "colab": {
          "base_uri": "https://localhost:8080/",
          "height": 725
        },
        "outputId": "40b88492-07f4-4113-efcb-6b09625306f0"
      },
      "execution_count": null,
      "outputs": [
        {
          "output_type": "stream",
          "name": "stdout",
          "text": [
            "[2 9 8 1 6 2 6 6 0 8]\n",
            "[3 8 8 0 6 6 1 6 3 1]\n",
            "[[0 1 0 0 0 0 0]\n",
            " [0 0 0 0 1 1 0]\n",
            " [0 0 0 0 0 0 0]\n",
            " [1 0 1 0 0 0 0]\n",
            " [0 0 1 0 2 0 0]\n",
            " [0 0 0 0 0 1 1]\n",
            " [0 0 0 0 0 0 0]]\n",
            "              precision    recall  f1-score   support\n",
            "\n",
            "           0       0.00      0.00      0.00         1\n",
            "           1       0.00      0.00      0.00         2\n",
            "           2       0.00      0.00      0.00         0\n",
            "           3       0.00      0.00      0.00         2\n",
            "           6       0.67      0.67      0.67         3\n",
            "           8       0.50      0.50      0.50         2\n",
            "           9       0.00      0.00      0.00         0\n",
            "\n",
            "    accuracy                           0.30        10\n",
            "   macro avg       0.17      0.17      0.17        10\n",
            "weighted avg       0.30      0.30      0.30        10\n",
            "\n"
          ]
        },
        {
          "output_type": "stream",
          "name": "stderr",
          "text": [
            "/usr/local/lib/python3.7/dist-packages/sklearn/metrics/_classification.py:1318: UndefinedMetricWarning: Precision and F-score are ill-defined and being set to 0.0 in labels with no predicted samples. Use `zero_division` parameter to control this behavior.\n",
            "  _warn_prf(average, modifier, msg_start, len(result))\n",
            "/usr/local/lib/python3.7/dist-packages/sklearn/metrics/_classification.py:1318: UndefinedMetricWarning: Recall and F-score are ill-defined and being set to 0.0 in labels with no true samples. Use `zero_division` parameter to control this behavior.\n",
            "  _warn_prf(average, modifier, msg_start, len(result))\n",
            "/usr/local/lib/python3.7/dist-packages/sklearn/metrics/_classification.py:1318: UndefinedMetricWarning: Precision and F-score are ill-defined and being set to 0.0 in labels with no predicted samples. Use `zero_division` parameter to control this behavior.\n",
            "  _warn_prf(average, modifier, msg_start, len(result))\n",
            "/usr/local/lib/python3.7/dist-packages/sklearn/metrics/_classification.py:1318: UndefinedMetricWarning: Recall and F-score are ill-defined and being set to 0.0 in labels with no true samples. Use `zero_division` parameter to control this behavior.\n",
            "  _warn_prf(average, modifier, msg_start, len(result))\n",
            "/usr/local/lib/python3.7/dist-packages/sklearn/metrics/_classification.py:1318: UndefinedMetricWarning: Precision and F-score are ill-defined and being set to 0.0 in labels with no predicted samples. Use `zero_division` parameter to control this behavior.\n",
            "  _warn_prf(average, modifier, msg_start, len(result))\n",
            "/usr/local/lib/python3.7/dist-packages/sklearn/metrics/_classification.py:1318: UndefinedMetricWarning: Recall and F-score are ill-defined and being set to 0.0 in labels with no true samples. Use `zero_division` parameter to control this behavior.\n",
            "  _warn_prf(average, modifier, msg_start, len(result))\n"
          ]
        },
        {
          "output_type": "display_data",
          "data": {
            "text/plain": [
              "<Figure size 432x288 with 1 Axes>"
            ],
            "image/png": "[encoded data removed]"
          },
          "metadata": {
            "needs_background": "light"
          }
        }
      ]
    },
    {
      "cell_type": "markdown",
      "source": [
        "**Choosing a K Value**"
      ],
      "metadata": {
        "_uuid": "2bb7d870a8beaead732e933b26ca2560a635b9c3",
        "id": "R0UxmSd26ZWe"
      }
    },
    {
      "cell_type": "markdown",
      "source": [
        "Implement a for loop in 'find_best_k' function (hint: use KNeighborsClassifier object) that trains various KNN models with different k values, then keep track of the error_rate for each of these models with a list.\n",
        "The function will return the best k, and the error rate of each k as a numpy array."
      ],
      "metadata": {
        "_uuid": "249e09040d35835d5573c8040bf0a6f058243bdd",
        "id": "ZxskqOWf6ZWe"
      }
    },
    {
      "cell_type": "code",
      "source": [
        "MIN_K = 1\n",
        "MAX_K = 15\n",
        "\n",
        "def find_best_k(min_k=1, max_k=15):\n",
        "\n",
        "  validation_accuracies = []\n",
        "  for k in range(min_k, max_k):\n",
        "    print(k)\n",
        "    knn = KNeighborsClassifier(euclidean_distance, n_neighbors=k)\n",
        "    knn.fit(x_train,y_train)\n",
        "    predictions = knn.predict(x_test)\n",
        "    acc = error_rate(predictions, y_test)\n",
        "\n",
        "    validation_accuracies.append(acc)\n",
        "\n",
        "  index_min = np.argmin(validation_accuracies)\n",
        "  return (index_min + 1, validation_accuracies)\n",
        "\n",
        "  "
      ],
      "metadata": {
        "_uuid": "1888168e0d4e1b67c8453578c10608b4f4d1064a",
        "collapsed": true,
        "jupyter": {
          "outputs_hidden": true
        },
        "trusted": true,
        "id": "s1Zwd1PB6ZWf"
      },
      "execution_count": null,
      "outputs": []
    },
    {
      "cell_type": "code",
      "source": [
        "best_k, error_rate = find_best_k(min_k=MIN_K, max_k=MAX_K)\n",
        "print(best_k)\n",
        "print(error_rate)"
      ],
      "metadata": {
        "id": "hgiv4I1xEof5",
        "colab": {
          "base_uri": "https://localhost:8080/"
        },
        "outputId": "68a0bffc-9c1a-4cd3-a473-ee2a7eff3581"
      },
      "execution_count": null,
      "outputs": [
        {
          "output_type": "stream",
          "name": "stdout",
          "text": [
            "1\n",
            "2\n",
            "3\n",
            "4\n",
            "5\n",
            "6\n",
            "7\n",
            "8\n",
            "9\n",
            "10\n",
            "11\n",
            "12\n",
            "13\n",
            "14\n",
            "1\n",
            "[0.7, 0.7, 0.7, 0.7, 0.8, 0.7, 0.7, 0.8, 0.7, 0.7, 0.8, 0.8, 0.8, 0.8]\n"
          ]
        }
      ]
    },
    {
      "cell_type": "markdown",
      "source": [
        "Now create the following plot using the information from your for loop."
      ],
      "metadata": {
        "_uuid": "e0885f54bb197123a46822f9aad5bb5bc2b8e29d",
        "id": "XRnwmDcD6ZWg"
      }
    },
    {
      "cell_type": "code",
      "source": [
        "plt.figure(figsize=(10,6))\n",
        "plt.plot(range(MIN_K,MAX_K),error_rate,color='blue',linestyle='dashed', marker='o',\n",
        "         markerfacecolor='red', markersize=10)\n",
        "plt.title('Error rate vs K')\n",
        "plt.xlabel('K')\n",
        "plt.ylabel('Error rate')"
      ],
      "metadata": {
        "_uuid": "d4367d0cceb7e8e925d03bddcf7d8a0c744e24eb",
        "trusted": true,
        "id": "e3aBqCrz6ZWg",
        "colab": {
          "base_uri": "https://localhost:8080/",
          "height": 421
        },
        "outputId": "ed2fdc5b-e5a5-4cb7-8185-7b41343b14da"
      },
      "execution_count": null,
      "outputs": [
        {
          "output_type": "execute_result",
          "data": {
            "text/plain": [
              "Text(0, 0.5, 'Error rate')"
            ]
          },
          "metadata": {},
          "execution_count": 25
        },
        {
          "output_type": "display_data",
          "data": {
            "text/plain": [
              "<Figure size 720x432 with 1 Axes>"
            ],
            "image/png": "[encoded data removed]"
          },
          "metadata": {
            "needs_background": "light"
          }
        }
      ]
    },
    {
      "cell_type": "markdown",
      "source": [
        "**Retrain with new K Value**"
      ],
      "metadata": {
        "_uuid": "b8f0fab026198a3713fd349f90f822bbec54bc46",
        "id": "32CvrMLV6ZWh"
      }
    },
    {
      "cell_type": "markdown",
      "source": [
        "Retrain your model with the best K value (up to you to decide what you want) and re-do the classification report and the confusion matrix."
      ],
      "metadata": {
        "_uuid": "71595920cbc4e2b99c48e45685a2c9b7d2bd6eaf",
        "id": "rXPiIZcB6ZWi"
      }
    },
    {
      "cell_type": "code",
      "source": [
        "knn = KNeighborsClassifier(euclidean_distance, n_neighbors=7)\n",
        "knn.fit(x_train,y_train)\n",
        "pred = knn.predict(x_test)"
      ],
      "metadata": {
        "_uuid": "ef73509be8d89ad176edb3c58e213d2f90ded61e",
        "collapsed": true,
        "jupyter": {
          "outputs_hidden": true
        },
        "trusted": true,
        "id": "D22b6tx36ZWi"
      },
      "execution_count": null,
      "outputs": []
    },
    {
      "cell_type": "code",
      "source": [
        "print(confusion_matrix(y_test,pred))\n",
        "print(classification_report(y_test,pred))"
      ],
      "metadata": {
        "_uuid": "15aa54fc0ea59691e5ec1d5f00c47f6f366f1e15",
        "trusted": true,
        "id": "ltUP04u96ZWj",
        "colab": {
          "base_uri": "https://localhost:8080/"
        },
        "outputId": "e934dc2f-3b41-4246-de29-249433c8104c"
      },
      "execution_count": null,
      "outputs": [
        {
          "output_type": "stream",
          "name": "stdout",
          "text": [
            "[[0 1 0 0 0 0 0]\n",
            " [0 0 0 0 1 1 0]\n",
            " [0 0 0 0 0 0 0]\n",
            " [1 0 1 0 0 0 0]\n",
            " [0 0 1 0 2 0 0]\n",
            " [0 0 0 0 0 1 1]\n",
            " [0 0 0 0 0 0 0]]\n",
            "              precision    recall  f1-score   support\n",
            "\n",
            "           0       0.00      0.00      0.00         1\n",
            "           1       0.00      0.00      0.00         2\n",
            "           2       0.00      0.00      0.00         0\n",
            "           3       0.00      0.00      0.00         2\n",
            "           6       0.67      0.67      0.67         3\n",
            "           8       0.50      0.50      0.50         2\n",
            "           9       0.00      0.00      0.00         0\n",
            "\n",
            "    accuracy                           0.30        10\n",
            "   macro avg       0.17      0.17      0.17        10\n",
            "weighted avg       0.30      0.30      0.30        10\n",
            "\n"
          ]
        },
        {
          "output_type": "stream",
          "name": "stderr",
          "text": [
            "/usr/local/lib/python3.7/dist-packages/sklearn/metrics/_classification.py:1318: UndefinedMetricWarning: Precision and F-score are ill-defined and being set to 0.0 in labels with no predicted samples. Use `zero_division` parameter to control this behavior.\n",
            "  _warn_prf(average, modifier, msg_start, len(result))\n",
            "/usr/local/lib/python3.7/dist-packages/sklearn/metrics/_classification.py:1318: UndefinedMetricWarning: Recall and F-score are ill-defined and being set to 0.0 in labels with no true samples. Use `zero_division` parameter to control this behavior.\n",
            "  _warn_prf(average, modifier, msg_start, len(result))\n",
            "/usr/local/lib/python3.7/dist-packages/sklearn/metrics/_classification.py:1318: UndefinedMetricWarning: Precision and F-score are ill-defined and being set to 0.0 in labels with no predicted samples. Use `zero_division` parameter to control this behavior.\n",
            "  _warn_prf(average, modifier, msg_start, len(result))\n",
            "/usr/local/lib/python3.7/dist-packages/sklearn/metrics/_classification.py:1318: UndefinedMetricWarning: Recall and F-score are ill-defined and being set to 0.0 in labels with no true samples. Use `zero_division` parameter to control this behavior.\n",
            "  _warn_prf(average, modifier, msg_start, len(result))\n",
            "/usr/local/lib/python3.7/dist-packages/sklearn/metrics/_classification.py:1318: UndefinedMetricWarning: Precision and F-score are ill-defined and being set to 0.0 in labels with no predicted samples. Use `zero_division` parameter to control this behavior.\n",
            "  _warn_prf(average, modifier, msg_start, len(result))\n",
            "/usr/local/lib/python3.7/dist-packages/sklearn/metrics/_classification.py:1318: UndefinedMetricWarning: Recall and F-score are ill-defined and being set to 0.0 in labels with no true samples. Use `zero_division` parameter to control this behavior.\n",
            "  _warn_prf(average, modifier, msg_start, len(result))\n"
          ]
        }
      ]
    },
    {
      "cell_type": "markdown",
      "source": [
        "**:)**"
      ],
      "metadata": {
        "_uuid": "f55ee56ba4ff8850ca413226af4fb78b712ed0ab",
        "id": "XXzD3V_T6ZWj"
      }
    }
  ]
}